{
  "nbformat": 4,
  "nbformat_minor": 0,
  "metadata": {
    "colab": {
      "name": "Deep_Neural_Network",
      "provenance": [],
      "collapsed_sections": []
    },
    "kernelspec": {
      "name": "python3",
      "display_name": "Python 3"
    }
  },
  "cells": [
    {
      "cell_type": "code",
      "metadata": {
        "id": "9ooOKEsUh8iL"
      },
      "source": [
        "import torch\n",
        "import numpy as np\n",
        "import matplotlib.pyplot as plt\n",
        "import torch.nn as nn\n",
        "from sklearn import datasets "
      ],
      "execution_count": 51,
      "outputs": []
    },
    {
      "cell_type": "code",
      "metadata": {
        "id": "w5Gken8GNsiW"
      },
      "source": [
        "n_pts = 500\n",
        "X, y = datasets.make_circles(n_samples = n_pts, random_state = 123, noise = 0.1, factor = 0.2)\n",
        "x_data = torch.Tensor(X)\n",
        "y_data = torch.Tensor(y.reshape(500,1))"
      ],
      "execution_count": 52,
      "outputs": []
    },
    {
      "cell_type": "code",
      "metadata": {
        "id": "XaXBpn9yRtzC"
      },
      "source": [
        "def scatter_plot():\n",
        "    plt.scatter(X[y == 0, 0], X[y == 0, 1])\n",
        "    plt.scatter(X[y == 1, 0], X[y == 1, 1])"
      ],
      "execution_count": 53,
      "outputs": []
    },
    {
      "cell_type": "code",
      "metadata": {
        "colab": {
          "base_uri": "https://localhost:8080/",
          "height": 265
        },
        "id": "UL9_GbjZSDeF",
        "outputId": "11987b26-933e-4542-e910-9c137c827acd"
      },
      "source": [
        "scatter_plot()"
      ],
      "execution_count": 54,
      "outputs": [
        {
          "output_type": "display_data",
          "data": {
            "image/png": "[encoded data removed]",
            "text/plain": [
              "<Figure size 432x288 with 1 Axes>"
            ]
          },
          "metadata": {
            "tags": [],
            "needs_background": "light"
          }
        }
      ]
    },
    {
      "cell_type": "code",
      "metadata": {
        "id": "0uQth9zaSG86"
      },
      "source": [
        "class Model(nn.Module):\n",
        "    def __init__(self, input_size, H1, output_size):\n",
        "        super().__init__()\n",
        "        self.linear = nn.Linear(input_size, H1)\n",
        "        self.linear2 = nn.Linear(H1, output_size)\n",
        "    def forward(self, x):\n",
        "        # this is the first layer of the network\n",
        "        x = torch.sigmoid(self.linear(x))\n",
        "        # the output of the first is fed to the second layer\n",
        "        x = torch.sigmoid(self.linear2(x))\n",
        "        return x\n",
        "    def predict(self, x):\n",
        "        pred = self.forward(x)\n",
        "        if pred >= 0.5:\n",
        "            return 1\n",
        "        else:\n",
        "            return 0"
      ],
      "execution_count": 55,
      "outputs": []
    },
    {
      "cell_type": "code",
      "metadata": {
        "colab": {
          "base_uri": "https://localhost:8080/"
        },
        "id": "WryGEi0qTCVr",
        "outputId": "78ca4bdd-4b8a-4803-96f6-117eaeb0477f"
      },
      "source": [
        "torch.manual_seed(2)\n",
        "model = Model(2, 4, 1)\n",
        "print(list(model.parameters()))"
      ],
      "execution_count": 56,
      "outputs": [
        {
          "output_type": "stream",
          "text": [
            "[Parameter containing:\n",
            "tensor([[ 0.1622, -0.1683],\n",
            "        [ 0.1939, -0.0361],\n",
            "        [ 0.3021,  0.1683],\n",
            "        [-0.0813, -0.5717]], requires_grad=True), Parameter containing:\n",
            "tensor([ 0.1614, -0.6260,  0.0929,  0.0470], requires_grad=True), Parameter containing:\n",
            "tensor([[-0.1099,  0.4088,  0.0334,  0.2073]], requires_grad=True), Parameter containing:\n",
            "tensor([0.2116], requires_grad=True)]\n"
          ],
          "name": "stdout"
        }
      ]
    },
    {
      "cell_type": "code",
      "metadata": {
        "id": "T61cbFOuTOQX"
      },
      "source": [
        "criterion = nn.BCELoss()\n",
        "optimizer = torch.optim.Adam(model.parameters(), lr = 0.1)"
      ],
      "execution_count": 57,
      "outputs": []
    },
    {
      "cell_type": "code",
      "metadata": {
        "colab": {
          "base_uri": "https://localhost:8080/"
        },
        "id": "T7YqjvwsTme0",
        "outputId": "d7237300-b42a-4d35-8187-944116eb6170"
      },
      "source": [
        "epochs = 1000\n",
        "losses = []\n",
        "\n",
        "for i in range(epochs):\n",
        "    y_pred = model.forward(x_data)\n",
        "    loss = criterion(y_pred, y_data)\n",
        "    if i % 100 == 0:\n",
        "        print('Epoch: {}, Loss: {}'.format(i, loss))\n",
        "    losses.append(loss)\n",
        "    optimizer.zero_grad()\n",
        "    loss.backward()\n",
        "    optimizer.step()"
      ],
      "execution_count": 58,
      "outputs": [
        {
          "output_type": "stream",
          "text": [
            "Epoch: 0, Loss: 0.7148520350456238\n",
            "Epoch: 100, Loss: 0.07139108330011368\n",
            "Epoch: 200, Loss: 0.017132556065917015\n",
            "Epoch: 300, Loss: 0.009565905667841434\n",
            "Epoch: 400, Loss: 0.006295513361692429\n",
            "Epoch: 500, Loss: 0.004502822179347277\n",
            "Epoch: 600, Loss: 0.0034282272681593895\n",
            "Epoch: 700, Loss: 0.0027298980858176947\n",
            "Epoch: 800, Loss: 0.0022412603721022606\n",
            "Epoch: 900, Loss: 0.001880280557088554\n"
          ],
          "name": "stdout"
        }
      ]
    },
    {
      "cell_type": "code",
      "metadata": {
        "colab": {
          "base_uri": "https://localhost:8080/",
          "height": 296
        },
        "id": "AN0nL9yKUyLu",
        "outputId": "af86d828-4518-4b95-a0c9-784c757c8a37"
      },
      "source": [
        "plt.plot(range(epochs), losses)\n",
        "plt.ylabel('Loss')\n",
        "plt.xlabel('epoch')"
      ],
      "execution_count": 59,
      "outputs": [
        {
          "output_type": "execute_result",
          "data": {
            "text/plain": [
              "Text(0.5, 0, 'epoch')"
            ]
          },
          "metadata": {
            "tags": []
          },
          "execution_count": 59
        },
        {
          "output_type": "display_data",
          "data": {
            "image/png": "[encoded data removed]",
            "text/plain": [
              "<Figure size 432x288 with 1 Axes>"
            ]
          },
          "metadata": {
            "tags": [],
            "needs_background": "light"
          }
        }
      ]
    },
    {
      "cell_type": "code",
      "metadata": {
        "id": "-NvDcyb-U9lo"
      },
      "source": [
        "def plot_decision_boundary(X, y):\n",
        "    # making the decision boundary by forming a grid and passing each point for its predicion\n",
        "    x_span = np.linspace(min(X[:, 0]) -0.25, max(X[:, 0]) +0.25)\n",
        "    y_span = np.linspace(min(X[:, 1]) -0.25, max(X[:, 1]) +0.25)\n",
        "    xx, yy = np.meshgrid(x_span, y_span)\n",
        "    grid = torch.Tensor(np.c_[xx.ravel(), yy.ravel()])\n",
        "    pred_func= (model.forward(grid))\n",
        "    z = pred_func.view(xx.shape).detach().numpy()\n",
        "    plt.contourf(xx, yy ,z)"
      ],
      "execution_count": 60,
      "outputs": []
    },
    {
      "cell_type": "code",
      "metadata": {
        "colab": {
          "base_uri": "https://localhost:8080/",
          "height": 265
        },
        "id": "gnt8Ecn0V5AU",
        "outputId": "5cf239f4-7c4e-4cb4-c92c-c64816045009"
      },
      "source": [
        "plot_decision_boundary(X, y)\n",
        "scatter_plot()"
      ],
      "execution_count": 61,
      "outputs": [
        {
          "output_type": "display_data",
          "data": {
            "image/png": "[encoded data removed]",
            "text/plain": [
              "<Figure size 432x288 with 1 Axes>"
            ]
          },
          "metadata": {
            "tags": [],
            "needs_background": "light"
          }
        }
      ]
    },
    {
      "cell_type": "code",
      "metadata": {
        "colab": {
          "base_uri": "https://localhost:8080/",
          "height": 282
        },
        "id": "4CY8gF1QWFza",
        "outputId": "3123c564-cf92-41da-8067-f6497c2f6424"
      },
      "source": [
        "# making the prediction on a new point\n",
        "x = 0.025\n",
        "y = 0.025\n",
        "point = torch.Tensor([x, y])\n",
        "prediction = model.predict(point)\n",
        "plt.plot([x], [y], marker='o', markersize=10, color=\"red\")\n",
        "print(\"Prediction is\", prediction)\n",
        "plot_decision_boundary(X, y)"
      ],
      "execution_count": 62,
      "outputs": [
        {
          "output_type": "stream",
          "text": [
            "Prediction is 1\n"
          ],
          "name": "stdout"
        },
        {
          "output_type": "display_data",
          "data": {
            "image/png": "[encoded data removed]",
            "text/plain": [
              "<Figure size 432x288 with 1 Axes>"
            ]
          },
          "metadata": {
            "tags": [],
            "needs_background": "light"
          }
        }
      ]
    }
  ]
}