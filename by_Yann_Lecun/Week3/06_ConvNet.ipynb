{
 "cells": [
  {
   "cell_type": "markdown",
   "metadata": {},
   "source": [
    "## In Deep Learning\n",
    "- Many layers: compositionality\n",
    "- Convolutions: locality + stationarity of images\n",
    "- Pooling: Invariance of object class to translations"
   ]
  },
  {
   "cell_type": "code",
   "execution_count": 1,
   "metadata": {},
   "outputs": [],
   "source": [
    "import torch\n",
    "import torch.nn as nn\n",
    "import torch.nn.functional as F\n",
    "import torch.optim as optim \n",
    "from torchvision import datasets, transforms\n",
    "import matplotlib.pyplot as plt\n",
    "import numpy as np"
   ]
  },
  {
   "cell_type": "code",
   "execution_count": 2,
   "metadata": {},
   "outputs": [],
   "source": [
    "# to count the number of parameters\n",
    "def get_n_params(model):\n",
    "    np = 0\n",
    "    for p in list(model.parameters()):\n",
    "        np += p.nelement()\n",
    "    return np"
   ]
  },
  {
   "cell_type": "code",
   "execution_count": 4,
   "metadata": {},
   "outputs": [],
   "source": [
    "device = torch.device(\"cuda:0\" if torch.cuda.is_available() else \"cpu\")"
   ]
  },
  {
   "cell_type": "markdown",
   "metadata": {},
   "source": [
    "## Loading the MNIST Dataset\n",
    "\n",
    "We will use torch functionalities to download the data easily along with some minor pre-processing functions."
   ]
  },
  {
   "cell_type": "code",
   "execution_count": 5,
   "metadata": {},
   "outputs": [
    {
     "name": "stdout",
     "output_type": "stream",
     "text": [
      "Downloading http://yann.lecun.com/exdb/mnist/train-images-idx3-ubyte.gz to ../data/MNIST/raw/train-images-idx3-ubyte.gz\n"
     ]
    },
    {
     "name": "stderr",
     "output_type": "stream",
     "text": [
      "100.1%"
     ]
    },
    {
     "name": "stdout",
     "output_type": "stream",
     "text": [
      "Extracting ../data/MNIST/raw/train-images-idx3-ubyte.gz to ../data/MNIST/raw\n",
      "Downloading http://yann.lecun.com/exdb/mnist/train-labels-idx1-ubyte.gz to ../data/MNIST/raw/train-labels-idx1-ubyte.gz\n"
     ]
    },
    {
     "name": "stderr",
     "output_type": "stream",
     "text": [
      "113.5%"
     ]
    },
    {
     "name": "stdout",
     "output_type": "stream",
     "text": [
      "Extracting ../data/MNIST/raw/train-labels-idx1-ubyte.gz to ../data/MNIST/raw\n",
      "Downloading http://yann.lecun.com/exdb/mnist/t10k-images-idx3-ubyte.gz to ../data/MNIST/raw/t10k-images-idx3-ubyte.gz\n"
     ]
    },
    {
     "name": "stderr",
     "output_type": "stream",
     "text": [
      "100.4%"
     ]
    },
    {
     "name": "stdout",
     "output_type": "stream",
     "text": [
      "Extracting ../data/MNIST/raw/t10k-images-idx3-ubyte.gz to ../data/MNIST/raw\n",
      "Downloading http://yann.lecun.com/exdb/mnist/t10k-labels-idx1-ubyte.gz to ../data/MNIST/raw/t10k-labels-idx1-ubyte.gz\n"
     ]
    },
    {
     "name": "stderr",
     "output_type": "stream",
     "text": [
      "180.4%"
     ]
    },
    {
     "name": "stdout",
     "output_type": "stream",
     "text": [
      "Extracting ../data/MNIST/raw/t10k-labels-idx1-ubyte.gz to ../data/MNIST/raw\n",
      "Processing...\n",
      "Done!\n"
     ]
    },
    {
     "name": "stderr",
     "output_type": "stream",
     "text": [
      "/media/prashant/HDD/Workspace/GitHub_Repositories/PyTorch_for_Deep_Learning/venv/lib/python3.8/site-packages/torchvision/datasets/mnist.py:480: UserWarning: The given NumPy array is not writeable, and PyTorch does not support non-writeable tensors. This means you can write to the underlying (supposedly non-writeable) NumPy array using the tensor. You may want to copy the array to protect its data or make it writeable before converting it to a tensor. This type of warning will be suppressed for the rest of this program. (Triggered internally at  /pytorch/torch/csrc/utils/tensor_numpy.cpp:141.)\n",
      "  return torch.from_numpy(parsed.astype(m[2], copy=False)).view(*s)\n"
     ]
    }
   ],
   "source": [
    "input_size = 28 * 28\n",
    "output_size = 10\n",
    "\n",
    "train_loader = torch.utils.data.DataLoader(datasets.MNIST('../data', train = True, download = True, \n",
    "                                                            transform = transforms.Compose([\n",
    "                                                                transforms.ToTensor(),\n",
    "                                                                transforms.Normalize((0.1307,), (0.3081,))\n",
    "                                                            ])),\n",
    "                                            batch_size = 64, shuffle = True)\n",
    "\n",
    "test_loader = torch.utils.data.DataLoader(datasets.MNIST('../data', train = False, \n",
    "                                                            transform = transforms.Compose([\n",
    "                                                                transforms.ToTensor(),\n",
    "                                                                transforms.Normalize((0.1307,), (0.3081,))\n",
    "                                                            ])),\n",
    "                                            batch_size = 1000, shuffle = True)"
   ]
  },
  {
   "cell_type": "code",
   "execution_count": 6,
   "metadata": {},
   "outputs": [
    {
     "data": {
      "image/png": "[encoded data removed]",
      "text/plain": [
       "<Figure size 1152x432 with 10 Axes>"
      ]
     },
     "metadata": {
      "needs_background": "light"
     },
     "output_type": "display_data"
    }
   ],
   "source": [
    "# plotting some images\n",
    "plt.figure(figsize=(16, 6))\n",
    "for i in range(10):\n",
    "    plt.subplot(2, 5, i + 1)\n",
    "    image, _ = train_loader.dataset.__getitem__(i)\n",
    "    plt.imshow(image.squeeze().numpy())\n",
    "    plt.axis('off')"
   ]
  },
  {
   "cell_type": "markdown",
   "metadata": {},
   "source": [
    "## Creating the Model Classes"
   ]
  },
  {
   "cell_type": "code",
   "execution_count": 7,
   "metadata": {},
   "outputs": [],
   "source": [
    "# Creating a Fully Connected Network\n",
    "class FC2Layer(nn.Module):\n",
    "    def __init__(self, input_size, n_hidden, output_size):\n",
    "        super(FC2Layer, self).__init__()\n",
    "        self.input_size = input_size\n",
    "        self.network = nn.Sequential(\n",
    "            nn.Linear(input_size, n_hidden),\n",
    "            nn.ReLU(),\n",
    "            nn.Linear(n_hidden, n_hidden),\n",
    "            nn.ReLU(),\n",
    "            nn.Linear(n_hidden, output_size),\n",
    "            nn.LogSoftmax(dim = 1)\n",
    "        )\n",
    "\n",
    "    def forward(self, x):\n",
    "        x = x.view(-1, self.input_size) # Flattening the features to feed to the full connected layers\n",
    "        return self.network(x)"
   ]
  },
  {
   "cell_type": "code",
   "execution_count": 8,
   "metadata": {},
   "outputs": [],
   "source": [
    "# Creating Convolutinal Network\n",
    "class CNN(nn.Module):\n",
    "    def __init__(self, input_size, n_feature, output_size):\n",
    "        super(CNN, self).__init__()\n",
    "        self.n_feature = n_features\n",
    "        self.conv1 = nn.Conv2d(in_channels= 1 , out_channels= n_feature, kernel_size = 5)\n",
    "        self.conv2 = nn.Conv2d(n_feature, n_feature, kernel_size= 5)\n",
    "        self.fc1 = nn.Linear(n_feature * 4 * 4, 50)\n",
    "        self.fc2 = nn.Linear(50, 10)\n",
    "\n",
    "    def forward(self, x, verbose = False):\n",
    "        x = self.conv1(x)\n",
    "        x = F.relu(x)\n",
    "        x = F.max_pool2d(x, kernel_size = 2)\n",
    "        x = self.conv2(x)\n",
    "        x = F.relu(x)\n",
    "        x = F.max_pool2d(x, kernel_size = 2)\n",
    "        x = x.view(-1, self.n_feature * 4 * 4) # Flattening the features to feed to the full connected layers\n",
    "        x = self.fc1(x)\n",
    "        x = F.relu(x)\n",
    "        x = self.fc2(x)\n",
    "        x = F.log_softmax(x, dim = 1)\n",
    "        return x"
   ]
  },
  {
   "cell_type": "code",
   "execution_count": 44,
   "metadata": {},
   "outputs": [],
   "source": [
    "accuracy_list = []\n",
    "def train(epoch, model, perm = torch.arange(0, 784).long()):\n",
    "    model.train()\n",
    "    for batch_idx, (data, target) in enumerate(train_loader):\n",
    "        # sending to device\n",
    "        data, target = data.to(device), target.to(device)\n",
    "        \n",
    "        # permute pixels\n",
    "        data = data.view(-1, 28 * 28)\n",
    "        data = data[:, perm]\n",
    "        data = data.view(-1, 1, 28, 28)\n",
    "        \n",
    "        optimizer.zero_grad()\n",
    "        output = model(data)\n",
    "        loss = F.nll_loss(output, target)\n",
    "        loss.backward()\n",
    "        optimizer.step()\n",
    "        if batch_idx % 100 == 0:\n",
    "            print('Train Epoch: {} [{}/{} ({:.0f}%)]\\tLoss: {:.6f}'.format(\n",
    "                    epoch, batch_idx * len(data), len(train_loader.dataset),\n",
    "                    100. * batch_idx / len(train_loader), loss.item()))\n",
    "            \n",
    "def test(model, perm = torch.arange(0, 784).long()):\n",
    "    model.eval()\n",
    "    test_loss = 0\n",
    "    correct = 0\n",
    "    for data, target in test_loader:\n",
    "        # sending to device\n",
    "        data, target = data.to(device), target.to(device)\n",
    "        \n",
    "        # permuting the pixels \n",
    "        data = data.view(-1, 28 * 28)\n",
    "        data = data[:, perm]\n",
    "        data = data.view(-1, 1, 28, 28)\n",
    "        output = model(data)\n",
    "        test_loss += F.nll_loss(output, target, reduction = 'sum').item() # sum to get the batch loss\n",
    "        pred = output.data.max(1, keepdim = True)[1] # getting the index of the max log probability\n",
    "        correct += pred.eq(target.data.view_as(pred)).cpu().sum().item()\n",
    "        \n",
    "    test_loss /= len(test_loader.dataset)\n",
    "    accuracy = 100. * correct / len(test_loader.dataset)\n",
    "    accuracy_list.append(accuracy)\n",
    "    print('\\nTest Set: Average loss: {:.4f}, Accuracy: {}/{} ({:.0f}%)\\n'.format(\n",
    "            test_loss, correct, len(test_loader.dataset),\n",
    "            accuracy))"
   ]
  },
  {
   "cell_type": "markdown",
   "metadata": {},
   "source": [
    "## Training a Small Fully Connected Network"
   ]
  },
  {
   "cell_type": "code",
   "execution_count": 46,
   "metadata": {},
   "outputs": [
    {
     "name": "stdout",
     "output_type": "stream",
     "text": [
      "Number of Parameters: 6442\n",
      "Train Epoch: 0 [0/60000 (0%)]\tLoss: 2.324030\n",
      "Train Epoch: 0 [6400/60000 (11%)]\tLoss: 1.783732\n",
      "Train Epoch: 0 [12800/60000 (21%)]\tLoss: 1.414057\n",
      "Train Epoch: 0 [19200/60000 (32%)]\tLoss: 0.958160\n",
      "Train Epoch: 0 [25600/60000 (43%)]\tLoss: 1.138294\n",
      "Train Epoch: 0 [32000/60000 (53%)]\tLoss: 0.501868\n",
      "Train Epoch: 0 [38400/60000 (64%)]\tLoss: 0.895273\n",
      "Train Epoch: 0 [44800/60000 (75%)]\tLoss: 0.822449\n",
      "Train Epoch: 0 [51200/60000 (85%)]\tLoss: 0.589684\n",
      "Train Epoch: 0 [57600/60000 (96%)]\tLoss: 0.541056\n",
      "\n",
      "Test Set: Average loss: 0.5739, Accuracy: 8323/10000 (83%)\n",
      "\n",
      "Train Epoch: 1 [0/60000 (0%)]\tLoss: 0.662531\n",
      "Train Epoch: 1 [6400/60000 (11%)]\tLoss: 0.532736\n",
      "Train Epoch: 1 [12800/60000 (21%)]\tLoss: 0.521319\n",
      "Train Epoch: 1 [19200/60000 (32%)]\tLoss: 0.482993\n",
      "Train Epoch: 1 [25600/60000 (43%)]\tLoss: 0.506506\n",
      "Train Epoch: 1 [32000/60000 (53%)]\tLoss: 0.298154\n",
      "Train Epoch: 1 [38400/60000 (64%)]\tLoss: 0.496604\n",
      "Train Epoch: 1 [44800/60000 (75%)]\tLoss: 0.784099\n",
      "Train Epoch: 1 [51200/60000 (85%)]\tLoss: 0.469364\n",
      "Train Epoch: 1 [57600/60000 (96%)]\tLoss: 0.335175\n",
      "\n",
      "Test Set: Average loss: 0.4076, Accuracy: 8858/10000 (89%)\n",
      "\n"
     ]
    }
   ],
   "source": [
    "n_hidden = 8 \n",
    "\n",
    "model_fnn = FC2Layer(input_size, n_hidden, output_size)\n",
    "model_fnn.to(device)\n",
    "optimizer = optim.SGD(model_fnn.parameters(), lr = 0.01, momentum = 0.5)\n",
    "print('Number of Parameters: {}'.format(get_n_params(model_fnn)))\n",
    "\n",
    "for epoch in range(0, 2):\n",
    "    train(epoch, model_fnn)\n",
    "    test(model_fnn)"
   ]
  },
  {
   "cell_type": "markdown",
   "metadata": {},
   "source": [
    "## Training a Convolutional Network with same number of parameters"
   ]
  },
  {
   "cell_type": "code",
   "execution_count": 47,
   "metadata": {},
   "outputs": [
    {
     "name": "stdout",
     "output_type": "stream",
     "text": [
      "Number of Parameters: 6422\n",
      "Train Epoch: 0 [0/60000 (0%)]\tLoss: 2.310686\n",
      "Train Epoch: 0 [6400/60000 (11%)]\tLoss: 1.426329\n",
      "Train Epoch: 0 [12800/60000 (21%)]\tLoss: 0.366174\n",
      "Train Epoch: 0 [19200/60000 (32%)]\tLoss: 0.290830\n",
      "Train Epoch: 0 [25600/60000 (43%)]\tLoss: 0.310044\n",
      "Train Epoch: 0 [32000/60000 (53%)]\tLoss: 0.193027\n",
      "Train Epoch: 0 [38400/60000 (64%)]\tLoss: 0.206488\n",
      "Train Epoch: 0 [44800/60000 (75%)]\tLoss: 0.180909\n",
      "Train Epoch: 0 [51200/60000 (85%)]\tLoss: 0.123226\n",
      "Train Epoch: 0 [57600/60000 (96%)]\tLoss: 0.136701\n",
      "\n",
      "Test Set: Average loss: 0.1595, Accuracy: 9496/10000 (95%)\n",
      "\n",
      "Train Epoch: 1 [0/60000 (0%)]\tLoss: 0.242380\n",
      "Train Epoch: 1 [6400/60000 (11%)]\tLoss: 0.157866\n",
      "Train Epoch: 1 [12800/60000 (21%)]\tLoss: 0.312855\n",
      "Train Epoch: 1 [19200/60000 (32%)]\tLoss: 0.146860\n",
      "Train Epoch: 1 [25600/60000 (43%)]\tLoss: 0.198459\n",
      "Train Epoch: 1 [32000/60000 (53%)]\tLoss: 0.169926\n",
      "Train Epoch: 1 [38400/60000 (64%)]\tLoss: 0.160579\n",
      "Train Epoch: 1 [44800/60000 (75%)]\tLoss: 0.054300\n",
      "Train Epoch: 1 [51200/60000 (85%)]\tLoss: 0.015166\n",
      "Train Epoch: 1 [57600/60000 (96%)]\tLoss: 0.066454\n",
      "\n",
      "Test Set: Average loss: 0.1072, Accuracy: 9663/10000 (97%)\n",
      "\n"
     ]
    }
   ],
   "source": [
    "# Training settings\n",
    "n_features = 6 # number of feature maps\n",
    "\n",
    "model_cnn = CNN(input_size, n_features, output_size)\n",
    "model_cnn.to(device)\n",
    "optimizer = optim.SGD(model_cnn.parameters(), lr = 0.01, momentum = 0.5)\n",
    "print('Number of Parameters: {}'.format(get_n_params(model_cnn)))\n",
    "\n",
    "for epoch in range(0, 2):\n",
    "    train(epoch, model_cnn)\n",
    "    test(model_cnn)"
   ]
  },
  {
   "cell_type": "markdown",
   "metadata": {},
   "source": [
    "Having same number of parameters, the convolutional neural network performs better because of its prior knowledge about the images\n",
    "\n",
    "- Use of convolution: Locality and stationarity in images\n",
    "- Pooling: builds some translation invariance"
   ]
  },
  {
   "cell_type": "code",
   "execution_count": 58,
   "metadata": {},
   "outputs": [
    {
     "data": {
      "image/png": "[encoded data removed]",
      "text/plain": [
       "<Figure size 1152x864 with 20 Axes>"
      ]
     },
     "metadata": {
      "needs_background": "light"
     },
     "output_type": "display_data"
    }
   ],
   "source": [
    "perm = torch.randperm(784)\n",
    "plt.figure(figsize = (16, 12))\n",
    "for i in range(10):\n",
    "    image, _ = train_loader.dataset.__getitem__(i)\n",
    "    # permuting pixels\n",
    "    image_perm = image.view(-1, 28 * 28).clone() # flattening the pixels\n",
    "    image_perm = image_perm[:, perm]\n",
    "    image_perm = image_perm.view(-1, 1, 28, 28)\n",
    "    plt.subplot(4, 5, i+1)\n",
    "    plt.imshow(image.squeeze().numpy())\n",
    "    plt.axis('off')\n",
    "    plt.subplot(4, 5, i+11)\n",
    "    plt.imshow(image_perm.squeeze().numpy())\n",
    "    plt.axis('off')"
   ]
  },
  {
   "cell_type": "markdown",
   "metadata": {},
   "source": [
    "## Convolutional Network with Permuted Pixels"
   ]
  },
  {
   "cell_type": "code",
   "execution_count": 59,
   "metadata": {},
   "outputs": [
    {
     "name": "stdout",
     "output_type": "stream",
     "text": [
      "Number of Parameters: 6422\n",
      "Train Epoch: 0 [0/60000 (0%)]\tLoss: 2.304966\n",
      "Train Epoch: 0 [6400/60000 (11%)]\tLoss: 2.255561\n",
      "Train Epoch: 0 [12800/60000 (21%)]\tLoss: 2.216744\n",
      "Train Epoch: 0 [19200/60000 (32%)]\tLoss: 1.903062\n",
      "Train Epoch: 0 [25600/60000 (43%)]\tLoss: 1.338905\n",
      "Train Epoch: 0 [32000/60000 (53%)]\tLoss: 1.044364\n",
      "Train Epoch: 0 [38400/60000 (64%)]\tLoss: 0.943533\n",
      "Train Epoch: 0 [44800/60000 (75%)]\tLoss: 0.923887\n",
      "Train Epoch: 0 [51200/60000 (85%)]\tLoss: 0.566529\n",
      "Train Epoch: 0 [57600/60000 (96%)]\tLoss: 0.449547\n",
      "\n",
      "Test Set: Average loss: 0.5699, Accuracy: 8171/10000 (82%)\n",
      "\n",
      "Train Epoch: 1 [0/60000 (0%)]\tLoss: 0.789950\n",
      "Train Epoch: 1 [6400/60000 (11%)]\tLoss: 0.347302\n",
      "Train Epoch: 1 [12800/60000 (21%)]\tLoss: 0.467647\n",
      "Train Epoch: 1 [19200/60000 (32%)]\tLoss: 0.367004\n",
      "Train Epoch: 1 [25600/60000 (43%)]\tLoss: 0.624115\n",
      "Train Epoch: 1 [32000/60000 (53%)]\tLoss: 0.539626\n",
      "Train Epoch: 1 [38400/60000 (64%)]\tLoss: 0.456455\n",
      "Train Epoch: 1 [44800/60000 (75%)]\tLoss: 0.250540\n",
      "Train Epoch: 1 [51200/60000 (85%)]\tLoss: 0.375163\n",
      "Train Epoch: 1 [57600/60000 (96%)]\tLoss: 0.447850\n",
      "\n",
      "Test Set: Average loss: 0.4441, Accuracy: 8605/10000 (86%)\n",
      "\n"
     ]
    }
   ],
   "source": [
    "# training settings \n",
    "n_features = 6 # number of filters\n",
    "\n",
    "model_cnn = CNN(input_size, n_features, output_size)\n",
    "model_cnn.to(device)\n",
    "optimizer = optim.SGD(model_cnn.parameters(), lr = 0.01, momentum = 0.5)\n",
    "print('Number of Parameters: {}'.format(get_n_params(model_cnn)))\n",
    "\n",
    "for epoch in range(0, 2):\n",
    "    train(epoch, model_cnn, perm)\n",
    "    test(model_cnn, perm)"
   ]
  },
  {
   "cell_type": "markdown",
   "metadata": {},
   "source": [
    "## Fully Connected with Permuted Pixels"
   ]
  },
  {
   "cell_type": "code",
   "execution_count": 60,
   "metadata": {},
   "outputs": [
    {
     "name": "stdout",
     "output_type": "stream",
     "text": [
      "Number of parameters: 6442\n",
      "Train Epoch: 0 [0/60000 (0%)]\tLoss: 2.361111\n",
      "Train Epoch: 0 [6400/60000 (11%)]\tLoss: 1.867089\n",
      "Train Epoch: 0 [12800/60000 (21%)]\tLoss: 1.114808\n",
      "Train Epoch: 0 [19200/60000 (32%)]\tLoss: 0.758454\n",
      "Train Epoch: 0 [25600/60000 (43%)]\tLoss: 0.754103\n",
      "Train Epoch: 0 [32000/60000 (53%)]\tLoss: 0.456775\n",
      "Train Epoch: 0 [38400/60000 (64%)]\tLoss: 0.433415\n",
      "Train Epoch: 0 [44800/60000 (75%)]\tLoss: 0.497927\n",
      "Train Epoch: 0 [51200/60000 (85%)]\tLoss: 0.425891\n",
      "Train Epoch: 0 [57600/60000 (96%)]\tLoss: 0.504271\n",
      "\n",
      "Test Set: Average loss: 0.3979, Accuracy: 8869/10000 (89%)\n",
      "\n",
      "Train Epoch: 1 [0/60000 (0%)]\tLoss: 0.427143\n",
      "Train Epoch: 1 [6400/60000 (11%)]\tLoss: 0.327016\n",
      "Train Epoch: 1 [12800/60000 (21%)]\tLoss: 0.181908\n",
      "Train Epoch: 1 [19200/60000 (32%)]\tLoss: 0.882301\n",
      "Train Epoch: 1 [25600/60000 (43%)]\tLoss: 0.269251\n",
      "Train Epoch: 1 [32000/60000 (53%)]\tLoss: 0.412732\n",
      "Train Epoch: 1 [38400/60000 (64%)]\tLoss: 0.386342\n",
      "Train Epoch: 1 [44800/60000 (75%)]\tLoss: 0.260092\n",
      "Train Epoch: 1 [51200/60000 (85%)]\tLoss: 0.471003\n",
      "Train Epoch: 1 [57600/60000 (96%)]\tLoss: 0.450285\n",
      "\n",
      "Test Set: Average loss: 0.3513, Accuracy: 8983/10000 (90%)\n",
      "\n"
     ]
    }
   ],
   "source": [
    "n_hidden = 8    # number of hidden units\n",
    "\n",
    "model_fnn = FC2Layer(input_size, n_hidden, output_size)\n",
    "model_fnn.to(device)\n",
    "optimizer = optim.SGD(model_fnn.parameters(), lr=0.01, momentum=0.5)\n",
    "print('Number of parameters: {}'.format(get_n_params(model_fnn)))\n",
    "\n",
    "for epoch in range(0, 2):\n",
    "    train(epoch, model_fnn, perm)\n",
    "    test(model_fnn, perm)"
   ]
  },
  {
   "cell_type": "markdown",
   "metadata": {},
   "source": [
    "When the pixels are randomly scrambled the performance of the convolutional neural networks decrease but FNN performance is still similar as it was previously.m\n",
    "- ConvNet makes the assumption that pixels lie on a grid and are stationary/ local.\n",
    "- It loses performance when this assumption is wrong.\n",
    "- The fully-connected network does not make this assumption\n",
    "- It does less well when it is true, since it doesn't take advantage of this prior knowledge\n",
    "- But it doesn't suffer when assumption is wrong"
   ]
  },
  {
   "cell_type": "code",
   "execution_count": 61,
   "metadata": {},
   "outputs": [
    {
     "name": "stdout",
     "output_type": "stream",
     "text": [
      "['T_destination', '__annotations__', '__call__', '__class__', '__delattr__', '__dict__', '__dir__', '__doc__', '__eq__', '__format__', '__ge__', '__getattr__', '__getattribute__', '__gt__', '__hash__', '__init__', '__init_subclass__', '__le__', '__lt__', '__module__', '__ne__', '__new__', '__reduce__', '__reduce_ex__', '__repr__', '__setattr__', '__setstate__', '__sizeof__', '__str__', '__subclasshook__', '__weakref__', '_apply', '_backward_hooks', '_buffers', '_call_impl', '_forward_hooks', '_forward_pre_hooks', '_get_name', '_load_from_state_dict', '_load_state_dict_pre_hooks', '_modules', '_named_members', '_non_persistent_buffers_set', '_parameters', '_register_load_state_dict_pre_hook', '_register_state_dict_hook', '_replicate_for_data_parallel', '_save_to_state_dict', '_slow_forward', '_state_dict_hooks', '_version', 'add_module', 'apply', 'bfloat16', 'buffers', 'children', 'conv1', 'conv2', 'cpu', 'cuda', 'double', 'dump_patches', 'eval', 'extra_repr', 'fc1', 'fc2', 'float', 'forward', 'half', 'load_state_dict', 'modules', 'n_feature', 'named_buffers', 'named_children', 'named_modules', 'named_parameters', 'parameters', 'register_backward_hook', 'register_buffer', 'register_forward_hook', 'register_forward_pre_hook', 'register_parameter', 'requires_grad_', 'share_memory', 'state_dict', 'to', 'train', 'training', 'type', 'zero_grad']\n"
     ]
    }
   ],
   "source": [
    "print(dir(model_cnn))"
   ]
  },
  {
   "cell_type": "code",
   "execution_count": 62,
   "metadata": {},
   "outputs": [
    {
     "name": "stdout",
     "output_type": "stream",
     "text": [
      "['T_destination', '__annotations__', '__call__', '__class__', '__delattr__', '__dict__', '__dir__', '__doc__', '__eq__', '__format__', '__ge__', '__getattr__', '__getattribute__', '__gt__', '__hash__', '__init__', '__init_subclass__', '__le__', '__lt__', '__module__', '__ne__', '__new__', '__reduce__', '__reduce_ex__', '__repr__', '__setattr__', '__setstate__', '__sizeof__', '__str__', '__subclasshook__', '__weakref__', '_apply', '_backward_hooks', '_buffers', '_call_impl', '_forward_hooks', '_forward_pre_hooks', '_get_name', '_load_from_state_dict', '_load_state_dict_pre_hooks', '_modules', '_named_members', '_non_persistent_buffers_set', '_parameters', '_register_load_state_dict_pre_hook', '_register_state_dict_hook', '_replicate_for_data_parallel', '_save_to_state_dict', '_slow_forward', '_state_dict_hooks', '_version', 'add_module', 'apply', 'bfloat16', 'buffers', 'children', 'cpu', 'cuda', 'double', 'dump_patches', 'eval', 'extra_repr', 'float', 'forward', 'half', 'input_size', 'load_state_dict', 'modules', 'named_buffers', 'named_children', 'named_modules', 'named_parameters', 'network', 'parameters', 'register_backward_hook', 'register_buffer', 'register_forward_hook', 'register_forward_pre_hook', 'register_parameter', 'requires_grad_', 'share_memory', 'state_dict', 'to', 'train', 'training', 'type', 'zero_grad']\n"
     ]
    }
   ],
   "source": [
    "print(dir(model_fnn))"
   ]
  },
  {
   "cell_type": "code",
   "execution_count": null,
   "metadata": {},
   "outputs": [],
   "source": []
  }
 ],
 "metadata": {
  "kernelspec": {
   "display_name": "Python 3",
   "language": "python",
   "name": "python3"
  },
  "language_info": {
   "codemirror_mode": {
    "name": "ipython",
    "version": 3
   },
   "file_extension": ".py",
   "mimetype": "text/x-python",
   "name": "python",
   "nbconvert_exporter": "python",
   "pygments_lexer": "ipython3",
   "version": "3.8.5"
  }
 },
 "nbformat": 4,
 "nbformat_minor": 4
}
