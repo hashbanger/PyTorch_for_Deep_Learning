{
  "nbformat": 4,
  "nbformat_minor": 0,
  "metadata": {
    "colab": {
      "name": "Creating_Dataset",
      "provenance": [],
      "collapsed_sections": []
    },
    "kernelspec": {
      "name": "python3",
      "display_name": "Python 3"
    }
  },
  "cells": [
    {
      "cell_type": "code",
      "metadata": {
        "id": "gVtXG-M5wiYh"
      },
      "source": [
        "import torch\n",
        "import torch.nn as nn\n",
        "import numpy as np\n",
        "import matplotlib.pyplot as plt"
      ],
      "execution_count": 46,
      "outputs": []
    },
    {
      "cell_type": "code",
      "metadata": {
        "colab": {
          "base_uri": "https://localhost:8080/",
          "height": 282
        },
        "id": "398N4o-A60xU",
        "outputId": "0d2dadc8-a278-44f9-b021-6699157ac056"
      },
      "source": [
        "X = torch.randn(100,1) * 10\n",
        "Y = X + 3 * torch.randn(100,1)\n",
        "plt.scatter(X, Y)"
      ],
      "execution_count": 47,
      "outputs": [
        {
          "output_type": "execute_result",
          "data": {
            "text/plain": [
              "<matplotlib.collections.PathCollection at 0x7f8d625f2dd8>"
            ]
          },
          "metadata": {
            "tags": []
          },
          "execution_count": 47
        },
        {
          "output_type": "display_data",
          "data": {
            "image/png": "[encoded data removed]",
            "text/plain": [
              "<Figure size 432x288 with 1 Axes>"
            ]
          },
          "metadata": {
            "tags": [],
            "needs_background": "light"
          }
        }
      ]
    },
    {
      "cell_type": "code",
      "metadata": {
        "id": "o58iuKBmwwxJ"
      },
      "source": [
        "class LR(nn.Module):\n",
        "    def __init__(self, input_size, output_size):\n",
        "        super().__init__()\n",
        "        self.linear = nn.Linear(input_size, output_size)\n",
        "    def forward(self, x):\n",
        "        pred = self.linear(x)\n",
        "        return pred"
      ],
      "execution_count": 48,
      "outputs": []
    },
    {
      "cell_type": "code",
      "metadata": {
        "id": "wL1uc9cQ0cUR",
        "colab": {
          "base_uri": "https://localhost:8080/"
        },
        "outputId": "4c64b108-472b-4af1-f4a8-f52d7eb365ad"
      },
      "source": [
        "torch.manual_seed(1)\n",
        "model = LR(1,1)\n",
        "print(model)"
      ],
      "execution_count": 49,
      "outputs": [
        {
          "output_type": "stream",
          "text": [
            "LR(\n",
            "  (linear): Linear(in_features=1, out_features=1, bias=True)\n",
            ")\n"
          ],
          "name": "stdout"
        }
      ]
    },
    {
      "cell_type": "code",
      "metadata": {
        "colab": {
          "base_uri": "https://localhost:8080/"
        },
        "id": "3bnTzgeH8JB1",
        "outputId": "efb95f56-638c-458e-ca6f-fcbe4c7f4c8f"
      },
      "source": [
        "[w, b]= model.parameters()\n",
        "w1 = w[0][0].item()\n",
        "b1 = b[0].item()\n",
        "print(w1, b1)"
      ],
      "execution_count": 50,
      "outputs": [
        {
          "output_type": "stream",
          "text": [
            "0.5152631998062134 -0.44137823581695557\n"
          ],
          "name": "stdout"
        }
      ]
    },
    {
      "cell_type": "code",
      "metadata": {
        "id": "OMTCitTa8Z3E"
      },
      "source": [
        "# making it more clean\n",
        "[w, b]= model.parameters()\n",
        "def get_params():\n",
        "    return w[0][0].item(), b[0].item()"
      ],
      "execution_count": 51,
      "outputs": []
    },
    {
      "cell_type": "code",
      "metadata": {
        "id": "gzoLc4hy9Dtx"
      },
      "source": [
        "def plot_fit(title):\n",
        "    plt.title = title\n",
        "    w1, b1 = get_params()\n",
        "    x1 = np.array([-30, 30])\n",
        "    y1 = w1 * x1 + b1\n",
        "    plt.plot(x1, y1, 'r')\n",
        "    plt.scatter(X, Y)\n",
        "    plt.show()"
      ],
      "execution_count": 54,
      "outputs": []
    },
    {
      "cell_type": "code",
      "metadata": {
        "colab": {
          "base_uri": "https://localhost:8080/",
          "height": 265
        },
        "id": "38_hAVRP9rAv",
        "outputId": "91774d3e-aa99-4256-c372-d0939c8d4dee"
      },
      "source": [
        "plot_fit('Initial Model')"
      ],
      "execution_count": 55,
      "outputs": [
        {
          "output_type": "display_data",
          "data": {
            "image/png": "[encoded data removed]",
            "text/plain": [
              "<Figure size 432x288 with 1 Axes>"
            ]
          },
          "metadata": {
            "tags": [],
            "needs_background": "light"
          }
        }
      ]
    }
  ]
}