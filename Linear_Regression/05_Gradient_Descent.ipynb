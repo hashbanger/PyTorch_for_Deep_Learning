{
  "nbformat": 4,
  "nbformat_minor": 0,
  "metadata": {
    "colab": {
      "name": "Gradient_Descent",
      "provenance": [],
      "collapsed_sections": []
    },
    "kernelspec": {
      "name": "python3",
      "display_name": "Python 3"
    }
  },
  "cells": [
    {
      "cell_type": "code",
      "metadata": {
        "id": "gVtXG-M5wiYh"
      },
      "source": [
        "import torch\n",
        "import torch.nn as nn\n",
        "import matplotlib.pyplot as plt\n",
        "import numpy as np"
      ],
      "execution_count": 1,
      "outputs": []
    },
    {
      "cell_type": "code",
      "metadata": {
        "colab": {
          "base_uri": "https://localhost:8080/"
        },
        "id": "shm5HGH5HI29",
        "outputId": "5b28f0ef-82dd-463d-c537-1b8dd591d043"
      },
      "source": [
        "torch.manual_seed(1)"
      ],
      "execution_count": 2,
      "outputs": [
        {
          "output_type": "execute_result",
          "data": {
            "text/plain": [
              "<torch._C.Generator at 0x7fd30f199b10>"
            ]
          },
          "metadata": {
            "tags": []
          },
          "execution_count": 2
        }
      ]
    },
    {
      "cell_type": "code",
      "metadata": {
        "colab": {
          "base_uri": "https://localhost:8080/",
          "height": 296
        },
        "id": "SIaV0T0yFvU1",
        "outputId": "7d36a7d0-c19a-4656-b6a4-b55bb5ffdaf7"
      },
      "source": [
        "X = torch.randn(100, 1) * 10\n",
        "y = X + 3*torch.randn(100, 1)\n",
        "plt.plot(X.numpy(), y.numpy(), 'o')\n",
        "plt.ylabel('y')\n",
        "plt.xlabel('x')"
      ],
      "execution_count": 3,
      "outputs": [
        {
          "output_type": "execute_result",
          "data": {
            "text/plain": [
              "Text(0.5, 0, 'x')"
            ]
          },
          "metadata": {
            "tags": []
          },
          "execution_count": 3
        },
        {
          "output_type": "display_data",
          "data": {
            "image/png": "[encoded data removed]",
            "text/plain": [
              "<Figure size 432x288 with 1 Axes>"
            ]
          },
          "metadata": {
            "tags": [],
            "needs_background": "light"
          }
        }
      ]
    },
    {
      "cell_type": "code",
      "metadata": {
        "id": "398N4o-A60xU"
      },
      "source": [
        "# X = torch.randn(100,1) * 10\n",
        "# Y = X + 3 * torch.randn(100,1)\n",
        "# plt.scatter(X, Y)"
      ],
      "execution_count": 4,
      "outputs": []
    },
    {
      "cell_type": "code",
      "metadata": {
        "id": "Dttz09PWGWVB"
      },
      "source": [
        "class LR(nn.Module):\n",
        "    def __init__(self, input_size, output_size):\n",
        "        super().__init__()\n",
        "        self.linear = nn.Linear(input_size, output_size)\n",
        "    def forward(self, x):\n",
        "        pred = self.linear(x)\n",
        "        return pred"
      ],
      "execution_count": 5,
      "outputs": []
    },
    {
      "cell_type": "code",
      "metadata": {
        "id": "wL1uc9cQ0cUR",
        "colab": {
          "base_uri": "https://localhost:8080/"
        },
        "outputId": "1630f927-362e-483c-eebe-b22fb695cd13"
      },
      "source": [
        "torch.manual_seed(1)\n",
        "model = LR(1,1)\n",
        "print(model)"
      ],
      "execution_count": 6,
      "outputs": [
        {
          "output_type": "stream",
          "text": [
            "LR(\n",
            "  (linear): Linear(in_features=1, out_features=1, bias=True)\n",
            ")\n"
          ],
          "name": "stdout"
        }
      ]
    },
    {
      "cell_type": "code",
      "metadata": {
        "colab": {
          "base_uri": "https://localhost:8080/"
        },
        "id": "3bnTzgeH8JB1",
        "outputId": "98273fdb-b36e-41fb-f06b-a0249689e4a1"
      },
      "source": [
        "[w, b]= model.parameters()\n",
        "w1 = w[0][0].item()\n",
        "b1 = b[0].item()\n",
        "print(w1, b1)"
      ],
      "execution_count": 7,
      "outputs": [
        {
          "output_type": "stream",
          "text": [
            "0.5152631998062134 -0.44137823581695557\n"
          ],
          "name": "stdout"
        }
      ]
    },
    {
      "cell_type": "code",
      "metadata": {
        "id": "OMTCitTa8Z3E"
      },
      "source": [
        "# making it more clean\n",
        "[w, b]= model.parameters()\n",
        "def get_params():\n",
        "    return w[0][0].item(), b[0].item()"
      ],
      "execution_count": 8,
      "outputs": []
    },
    {
      "cell_type": "code",
      "metadata": {
        "id": "hxuD1K3ZG1dR"
      },
      "source": [
        "def plot_fit(title):\n",
        "    plt.title = title\n",
        "    w1, b1 = get_params()\n",
        "    x1 = np.array([-30, 30])\n",
        "    y1 = w1*x1 + b1\n",
        "    plt.plot(x1, y1, 'r')\n",
        "    plt.scatter(X, y)\n",
        "    plt.show()"
      ],
      "execution_count": 9,
      "outputs": []
    },
    {
      "cell_type": "code",
      "metadata": {
        "colab": {
          "base_uri": "https://localhost:8080/",
          "height": 265
        },
        "id": "38_hAVRP9rAv",
        "outputId": "bfad08d3-44db-41fc-ae09-70abd91e7a74"
      },
      "source": [
        "plot_fit('Initial Model')"
      ],
      "execution_count": 10,
      "outputs": [
        {
          "output_type": "display_data",
          "data": {
            "image/png": "[encoded data removed]",
            "text/plain": [
              "<Figure size 432x288 with 1 Axes>"
            ]
          },
          "metadata": {
            "tags": [],
            "needs_background": "light"
          }
        }
      ]
    },
    {
      "cell_type": "code",
      "metadata": {
        "id": "MSV63rWxBvHA"
      },
      "source": [
        "criterion = nn.MSELoss()\n",
        "optimizer = torch.optim.SGD(model.parameters(), lr=0.01)"
      ],
      "execution_count": 11,
      "outputs": []
    },
    {
      "cell_type": "code",
      "metadata": {
        "colab": {
          "base_uri": "https://localhost:8080/"
        },
        "id": "nn1lcPHMG-A4",
        "outputId": "11776b54-9bbe-4c50-b1c3-a347486fdcf5"
      },
      "source": [
        "epochs = 100\n",
        "losses = []\n",
        "for i in range(epochs):\n",
        "    y_pred = model.forward(X)\n",
        "    loss = criterion(y_pred, y)\n",
        "    print(\"epoch:\", i, \"loss:\", loss.item())\n",
        "\n",
        "    # to append all the losses as history\n",
        "    losses.append(loss)\n",
        "    # since gradients accumulate, we have to reset them\n",
        "    optimizer.zero_grad()\n",
        "    # to calculate the gradient of the loss function\n",
        "    loss.backward()\n",
        "    # to update the weights\n",
        "    optimizer.step()"
      ],
      "execution_count": 12,
      "outputs": [
        {
          "output_type": "stream",
          "text": [
            "epoch: 0 loss: 37.701290130615234\n",
            "epoch: 1 loss: 36.5147819519043\n",
            "epoch: 2 loss: 35.379066467285156\n",
            "epoch: 3 loss: 34.291996002197266\n",
            "epoch: 4 loss: 33.25142288208008\n",
            "epoch: 5 loss: 32.25541687011719\n",
            "epoch: 6 loss: 31.30202865600586\n",
            "epoch: 7 loss: 30.389450073242188\n",
            "epoch: 8 loss: 29.515932083129883\n",
            "epoch: 9 loss: 28.679834365844727\n",
            "epoch: 10 loss: 27.8795223236084\n",
            "epoch: 11 loss: 27.113447189331055\n",
            "epoch: 12 loss: 26.380172729492188\n",
            "epoch: 13 loss: 25.678298950195312\n",
            "epoch: 14 loss: 25.006479263305664\n",
            "epoch: 15 loss: 24.3634090423584\n",
            "epoch: 16 loss: 23.747861862182617\n",
            "epoch: 17 loss: 23.158672332763672\n",
            "epoch: 18 loss: 22.594703674316406\n",
            "epoch: 19 loss: 22.054872512817383\n",
            "epoch: 20 loss: 21.538145065307617\n",
            "epoch: 21 loss: 21.043540954589844\n",
            "epoch: 22 loss: 20.570106506347656\n",
            "epoch: 23 loss: 20.116933822631836\n",
            "epoch: 24 loss: 19.683155059814453\n",
            "epoch: 25 loss: 19.267946243286133\n",
            "epoch: 26 loss: 18.87051010131836\n",
            "epoch: 27 loss: 18.49008560180664\n",
            "epoch: 28 loss: 18.125940322875977\n",
            "epoch: 29 loss: 17.77739715576172\n",
            "epoch: 30 loss: 17.443767547607422\n",
            "epoch: 31 loss: 17.124414443969727\n",
            "epoch: 32 loss: 16.818723678588867\n",
            "epoch: 33 loss: 16.5261173248291\n",
            "epoch: 34 loss: 16.24604034423828\n",
            "epoch: 35 loss: 15.977953910827637\n",
            "epoch: 36 loss: 15.72134017944336\n",
            "epoch: 37 loss: 15.475700378417969\n",
            "epoch: 38 loss: 15.240577697753906\n",
            "epoch: 39 loss: 15.015517234802246\n",
            "epoch: 40 loss: 14.800092697143555\n",
            "epoch: 41 loss: 14.593883514404297\n",
            "epoch: 42 loss: 14.396507263183594\n",
            "epoch: 43 loss: 14.207574844360352\n",
            "epoch: 44 loss: 14.026721000671387\n",
            "epoch: 45 loss: 13.853615760803223\n",
            "epoch: 46 loss: 13.687918663024902\n",
            "epoch: 47 loss: 13.529306411743164\n",
            "epoch: 48 loss: 13.377484321594238\n",
            "epoch: 49 loss: 13.232160568237305\n",
            "epoch: 50 loss: 13.093056678771973\n",
            "epoch: 51 loss: 12.959907531738281\n",
            "epoch: 52 loss: 12.83245849609375\n",
            "epoch: 53 loss: 12.710460662841797\n",
            "epoch: 54 loss: 12.593681335449219\n",
            "epoch: 55 loss: 12.481904029846191\n",
            "epoch: 56 loss: 12.37491226196289\n",
            "epoch: 57 loss: 12.272497177124023\n",
            "epoch: 58 loss: 12.174464225769043\n",
            "epoch: 59 loss: 12.08062744140625\n",
            "epoch: 60 loss: 11.990802764892578\n",
            "epoch: 61 loss: 11.904823303222656\n",
            "epoch: 62 loss: 11.822524070739746\n",
            "epoch: 63 loss: 11.743743896484375\n",
            "epoch: 64 loss: 11.668335914611816\n",
            "epoch: 65 loss: 11.596156120300293\n",
            "epoch: 66 loss: 11.527063369750977\n",
            "epoch: 67 loss: 11.460928916931152\n",
            "epoch: 68 loss: 11.397623062133789\n",
            "epoch: 69 loss: 11.337027549743652\n",
            "epoch: 70 loss: 11.279022216796875\n",
            "epoch: 71 loss: 11.22349739074707\n",
            "epoch: 72 loss: 11.170352935791016\n",
            "epoch: 73 loss: 11.11948013305664\n",
            "epoch: 74 loss: 11.07078742980957\n",
            "epoch: 75 loss: 11.024174690246582\n",
            "epoch: 76 loss: 10.979557991027832\n",
            "epoch: 77 loss: 10.936847686767578\n",
            "epoch: 78 loss: 10.89596939086914\n",
            "epoch: 79 loss: 10.856834411621094\n",
            "epoch: 80 loss: 10.819375991821289\n",
            "epoch: 81 loss: 10.783520698547363\n",
            "epoch: 82 loss: 10.749201774597168\n",
            "epoch: 83 loss: 10.716347694396973\n",
            "epoch: 84 loss: 10.684901237487793\n",
            "epoch: 85 loss: 10.654799461364746\n",
            "epoch: 86 loss: 10.625985145568848\n",
            "epoch: 87 loss: 10.59840202331543\n",
            "epoch: 88 loss: 10.572002410888672\n",
            "epoch: 89 loss: 10.546731948852539\n",
            "epoch: 90 loss: 10.522540092468262\n",
            "epoch: 91 loss: 10.499384880065918\n",
            "epoch: 92 loss: 10.477219581604004\n",
            "epoch: 93 loss: 10.456002235412598\n",
            "epoch: 94 loss: 10.435694694519043\n",
            "epoch: 95 loss: 10.416254997253418\n",
            "epoch: 96 loss: 10.3976469039917\n",
            "epoch: 97 loss: 10.37983512878418\n",
            "epoch: 98 loss: 10.362784385681152\n",
            "epoch: 99 loss: 10.346463203430176\n"
          ],
          "name": "stdout"
        }
      ]
    },
    {
      "cell_type": "code",
      "metadata": {
        "colab": {
          "base_uri": "https://localhost:8080/",
          "height": 296
        },
        "id": "q3GSq4xhEu8W",
        "outputId": "415c7ea0-c56d-4f11-efdf-66252a96850b"
      },
      "source": [
        "plt.plot(range(epochs), losses)\n",
        "plt.ylabel('Loss')\n",
        "plt.xlabel('epoch')"
      ],
      "execution_count": 13,
      "outputs": [
        {
          "output_type": "execute_result",
          "data": {
            "text/plain": [
              "Text(0.5, 0, 'epoch')"
            ]
          },
          "metadata": {
            "tags": []
          },
          "execution_count": 13
        },
        {
          "output_type": "display_data",
          "data": {
            "image/png": "[encoded data removed]",
            "text/plain": [
              "<Figure size 432x288 with 1 Axes>"
            ]
          },
          "metadata": {
            "tags": [],
            "needs_background": "light"
          }
        }
      ]
    },
    {
      "cell_type": "code",
      "metadata": {
        "colab": {
          "base_uri": "https://localhost:8080/",
          "height": 265
        },
        "id": "jZIBa0C3Hqep",
        "outputId": "be48ca3f-3809-4587-9f58-b3af41e62443"
      },
      "source": [
        "plot_fit(\"Trained Model\")"
      ],
      "execution_count": 14,
      "outputs": [
        {
          "output_type": "display_data",
          "data": {
            "image/png": "[encoded data removed]",
            "text/plain": [
              "<Figure size 432x288 with 1 Axes>"
            ]
          },
          "metadata": {
            "tags": [],
            "needs_background": "light"
          }
        }
      ]
    }
  ]
}