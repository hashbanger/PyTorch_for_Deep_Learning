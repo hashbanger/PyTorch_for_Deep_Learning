{
  "nbformat": 4,
  "nbformat_minor": 0,
  "metadata": {
    "colab": {
      "name": "Vector_Operations",
      "provenance": [],
      "collapsed_sections": []
    },
    "kernelspec": {
      "name": "python3",
      "display_name": "Python 3"
    }
  },
  "cells": [
    {
      "cell_type": "code",
      "metadata": {
        "id": "em7i_JapWiYh"
      },
      "source": [
        "import torch\n",
        "import matplotlib.pyplot as plt"
      ],
      "execution_count": 7,
      "outputs": []
    },
    {
      "cell_type": "code",
      "metadata": {
        "colab": {
          "base_uri": "https://localhost:8080/"
        },
        "id": "m2AYJcDjWnhh",
        "outputId": "7d507c76-cf2d-4ce2-bf37-6c0df5624abd"
      },
      "source": [
        "t_one = torch.tensor([1,2,3])\n",
        "t_two = torch.tensor([1,2,3])\n",
        "print('element sum: ', t_one + t_two)\n",
        "print('element multiply: ', t_one * t_two)"
      ],
      "execution_count": 3,
      "outputs": [
        {
          "output_type": "stream",
          "text": [
            "element sum:  tensor([2, 4, 6])\n",
            "element multiply:  tensor([1, 4, 9])\n"
          ],
          "name": "stdout"
        }
      ]
    },
    {
      "cell_type": "code",
      "metadata": {
        "colab": {
          "base_uri": "https://localhost:8080/"
        },
        "id": "RMHzO7CmXIzh",
        "outputId": "fa834c96-82ce-4b59-d6de-0c28122f0071"
      },
      "source": [
        "# multiplying by scalar\n",
        "t_one * 5"
      ],
      "execution_count": 4,
      "outputs": [
        {
          "output_type": "execute_result",
          "data": {
            "text/plain": [
              "tensor([ 5, 10, 15])"
            ]
          },
          "metadata": {
            "tags": []
          },
          "execution_count": 4
        }
      ]
    },
    {
      "cell_type": "code",
      "metadata": {
        "colab": {
          "base_uri": "https://localhost:8080/"
        },
        "id": "xCXyu2tOXTZu",
        "outputId": "e54abc36-6255-4d90-aef7-01306936580f"
      },
      "source": [
        "# we can do dot product as \n",
        "print('Dot: ', torch.dot(t_one, t_two))"
      ],
      "execution_count": 5,
      "outputs": [
        {
          "output_type": "stream",
          "text": [
            "Dot:  tensor(14)\n"
          ],
          "name": "stdout"
        }
      ]
    },
    {
      "cell_type": "code",
      "metadata": {
        "id": "Bqfbc2EaXhyd"
      },
      "source": [
        "# we can use an important function to generate data\n",
        "x = torch.linspace(0, 10, 100)\n",
        "y = torch.exp(x)\n",
        "z = torch.sin(x)"
      ],
      "execution_count": 10,
      "outputs": []
    },
    {
      "cell_type": "code",
      "metadata": {
        "colab": {
          "base_uri": "https://localhost:8080/",
          "height": 282
        },
        "id": "ZhqiVjqvXxrO",
        "outputId": "c3c32ae3-83fa-4800-a1e7-d4f633e3de7b"
      },
      "source": [
        "# for plotting we would have to convert the tensors to numpys\n",
        "plt.plot(x.numpy(), y.numpy())"
      ],
      "execution_count": 9,
      "outputs": [
        {
          "output_type": "execute_result",
          "data": {
            "text/plain": [
              "[<matplotlib.lines.Line2D at 0x7f7bb1129780>]"
            ]
          },
          "metadata": {
            "tags": []
          },
          "execution_count": 9
        },
        {
          "output_type": "display_data",
          "data": {
            "image/png": "[encoded data removed]",
            "text/plain": [
              "<Figure size 432x288 with 1 Axes>"
            ]
          },
          "metadata": {
            "tags": [],
            "needs_background": "light"
          }
        }
      ]
    },
    {
      "cell_type": "code",
      "metadata": {
        "colab": {
          "base_uri": "https://localhost:8080/",
          "height": 282
        },
        "id": "BY95ORLDX_Kk",
        "outputId": "2e252fc0-209b-49a5-ed80-1b9ecb561fab"
      },
      "source": [
        "# for plotting we would have to convert the tensors to numpys\n",
        "plt.plot(x.numpy(), z.numpy())"
      ],
      "execution_count": 11,
      "outputs": [
        {
          "output_type": "execute_result",
          "data": {
            "text/plain": [
              "[<matplotlib.lines.Line2D at 0x7f7bb0bcafd0>]"
            ]
          },
          "metadata": {
            "tags": []
          },
          "execution_count": 11
        },
        {
          "output_type": "display_data",
          "data": {
            "image/png": "[encoded data removed]",
            "text/plain": [
              "<Figure size 432x288 with 1 Axes>"
            ]
          },
          "metadata": {
            "tags": [],
            "needs_background": "light"
          }
        }
      ]
    }
  ]
}