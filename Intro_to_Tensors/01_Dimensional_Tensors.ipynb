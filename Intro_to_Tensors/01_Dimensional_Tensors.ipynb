{
  "nbformat": 4,
  "nbformat_minor": 0,
  "metadata": {
    "colab": {
      "name": "Dimensional_Tensors",
      "provenance": [],
      "collapsed_sections": []
    },
    "kernelspec": {
      "name": "python3",
      "display_name": "Python 3"
    }
  },
  "cells": [
    {
      "cell_type": "code",
      "metadata": {
        "id": "um1anJa5UHA9"
      },
      "source": [
        "# !pip3 install torch"
      ],
      "execution_count": 3,
      "outputs": []
    },
    {
      "cell_type": "code",
      "metadata": {
        "id": "WjE9VfjaUJcG"
      },
      "source": [
        "import torch\n",
        "import numpy as np"
      ],
      "execution_count": 23,
      "outputs": []
    },
    {
      "cell_type": "code",
      "metadata": {
        "colab": {
          "base_uri": "https://localhost:8080/"
        },
        "id": "RbfC7xHoUpmC",
        "outputId": "0067e72e-bdd5-4a22-ad48-d00da20ebb8d"
      },
      "source": [
        "v = torch.tensor([1,2,3])\n",
        "print(v[2])"
      ],
      "execution_count": 8,
      "outputs": [
        {
          "output_type": "stream",
          "text": [
            "tensor(3)\n"
          ],
          "name": "stdout"
        }
      ]
    },
    {
      "cell_type": "code",
      "metadata": {
        "colab": {
          "base_uri": "https://localhost:8080/"
        },
        "id": "CA1k_1oEUZU4",
        "outputId": "29fd832b-0a2e-413f-cf6f-593089dc19bd"
      },
      "source": [
        "v = torch.tensor([1,2,3,4,5,6])\n",
        "print(v[1:4])"
      ],
      "execution_count": 9,
      "outputs": [
        {
          "output_type": "stream",
          "text": [
            "tensor([2, 3, 4])\n"
          ],
          "name": "stdout"
        }
      ]
    },
    {
      "cell_type": "code",
      "metadata": {
        "colab": {
          "base_uri": "https://localhost:8080/"
        },
        "id": "1zUD2L7AUcMH",
        "outputId": "31f882e3-2589-47c7-d4ea-db9fa3d491f2"
      },
      "source": [
        "v = torch.tensor([1,2,3,4,5,6])\n",
        "print(v[1:])"
      ],
      "execution_count": 11,
      "outputs": [
        {
          "output_type": "stream",
          "text": [
            "tensor([2, 3, 4, 5, 6])\n"
          ],
          "name": "stdout"
        }
      ]
    },
    {
      "cell_type": "code",
      "metadata": {
        "colab": {
          "base_uri": "https://localhost:8080/"
        },
        "id": "N61zvOUCUtql",
        "outputId": "81ff7396-e4de-4783-b91c-448d99bf2f39"
      },
      "source": [
        "f = torch.FloatTensor([1,2,3,4,5,6])\n",
        "print(f)\n",
        "print(f.dtype)\n",
        "print(f.size())"
      ],
      "execution_count": 16,
      "outputs": [
        {
          "output_type": "stream",
          "text": [
            "tensor([1., 2., 3., 4., 5., 6.])\n",
            "torch.float32\n",
            "torch.Size([6])\n"
          ],
          "name": "stdout"
        }
      ]
    },
    {
      "cell_type": "code",
      "metadata": {
        "colab": {
          "base_uri": "https://localhost:8080/"
        },
        "id": "HYnEe1w4Ux9U",
        "outputId": "30b080c5-5e2a-4897-a023-24d9f7bc4b66"
      },
      "source": [
        "v.view(6,1) # similar to reshape in numpy, the compatibility constraints are the same for transformation"
      ],
      "execution_count": 19,
      "outputs": [
        {
          "output_type": "execute_result",
          "data": {
            "text/plain": [
              "tensor([[1],\n",
              "        [2],\n",
              "        [3],\n",
              "        [4],\n",
              "        [5],\n",
              "        [6]])"
            ]
          },
          "metadata": {
            "tags": []
          },
          "execution_count": 19
        }
      ]
    },
    {
      "cell_type": "code",
      "metadata": {
        "colab": {
          "base_uri": "https://localhost:8080/"
        },
        "id": "ywzbM5xIVDbn",
        "outputId": "edce99ad-5d45-4640-d044-67a3781682d4"
      },
      "source": [
        "v.view(3,2)"
      ],
      "execution_count": 20,
      "outputs": [
        {
          "output_type": "execute_result",
          "data": {
            "text/plain": [
              "tensor([[1, 2],\n",
              "        [3, 4],\n",
              "        [5, 6]])"
            ]
          },
          "metadata": {
            "tags": []
          },
          "execution_count": 20
        }
      ]
    },
    {
      "cell_type": "code",
      "metadata": {
        "colab": {
          "base_uri": "https://localhost:8080/"
        },
        "id": "GYXtJdj1VOW2",
        "outputId": "60edbd87-f6a7-42af-9b98-661a4ef74200"
      },
      "source": [
        "v.view(3, -1) # -1 allows it to infer the columns as per the tensor"
      ],
      "execution_count": 22,
      "outputs": [
        {
          "output_type": "execute_result",
          "data": {
            "text/plain": [
              "tensor([[1, 2],\n",
              "        [3, 4],\n",
              "        [5, 6]])"
            ]
          },
          "metadata": {
            "tags": []
          },
          "execution_count": 22
        }
      ]
    },
    {
      "cell_type": "code",
      "metadata": {
        "colab": {
          "base_uri": "https://localhost:8080/"
        },
        "id": "F95JT_koVSUa",
        "outputId": "71bc6b76-7b97-42c0-ba6b-856ea1201241"
      },
      "source": [
        "a = np.array([1,2,3,4,5,6])\n",
        "# to convert to torch tensor from numpy\n",
        "tensorcnv = torch.from_numpy(a)\n",
        "print(tensorcnv)\n",
        "print(tensorcnv.type())"
      ],
      "execution_count": 27,
      "outputs": [
        {
          "output_type": "stream",
          "text": [
            "tensor([1, 2, 3, 4, 5, 6])\n",
            "torch.LongTensor\n"
          ],
          "name": "stdout"
        }
      ]
    },
    {
      "cell_type": "code",
      "metadata": {
        "colab": {
          "base_uri": "https://localhost:8080/"
        },
        "id": "HI8zHlbdViMD",
        "outputId": "9f1662cc-6978-449f-be2a-4e0de16666ec"
      },
      "source": [
        "# convert it back to numpy arrays\n",
        "numpycnv = tensorcnv.numpy()\n",
        "print(numpycnv)"
      ],
      "execution_count": 28,
      "outputs": [
        {
          "output_type": "stream",
          "text": [
            "[1 2 3 4 5 6]\n"
          ],
          "name": "stdout"
        }
      ]
    }
  ]
}