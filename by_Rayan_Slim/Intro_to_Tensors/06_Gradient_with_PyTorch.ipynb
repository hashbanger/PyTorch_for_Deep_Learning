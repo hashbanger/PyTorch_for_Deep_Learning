{
  "nbformat": 4,
  "nbformat_minor": 0,
  "metadata": {
    "colab": {
      "name": "Gradient_with_PyTorch",
      "provenance": [],
      "collapsed_sections": []
    },
    "kernelspec": {
      "name": "python3",
      "display_name": "Python 3"
    }
  },
  "cells": [
    {
      "cell_type": "code",
      "metadata": {
        "id": "YWVzSE0ldwm1"
      },
      "source": [
        "import torch"
      ],
      "execution_count": 1,
      "outputs": []
    },
    {
      "cell_type": "code",
      "metadata": {
        "colab": {
          "base_uri": "https://localhost:8080/"
        },
        "id": "GvrdNUiqfv2_",
        "outputId": "c8253658-5d83-4f5f-cea5-349a5bd269ec"
      },
      "source": [
        "# when we require a grad for a tensor we put requires_grad parameter to True.\n",
        "x = torch.tensor(2.0, requires_grad= True)\n",
        "y = 9*x**4 + 2*x**3 + 3*x**2 + 6*x**1\n",
        "# to calculate gradient use backward function\n",
        "y.backward()\n",
        "x.grad"
      ],
      "execution_count": 5,
      "outputs": [
        {
          "output_type": "execute_result",
          "data": {
            "text/plain": [
              "tensor(330.)"
            ]
          },
          "metadata": {
            "tags": []
          },
          "execution_count": 5
        }
      ]
    },
    {
      "cell_type": "code",
      "metadata": {
        "colab": {
          "base_uri": "https://localhost:8080/"
        },
        "id": "duz5FQ1qgVV4",
        "outputId": "a0ba2aac-16fc-49f0-f670-0a2b9550347c"
      },
      "source": [
        "# we can also calculate partial gradients \n",
        "x = torch.tensor(1.0, requires_grad= True)\n",
        "z = torch.tensor(2.0, requires_grad= True)\n",
        "y = x**2 + z**3\n",
        "y.backward()\n",
        "print(x.grad)\n",
        "print(z.grad)"
      ],
      "execution_count": 6,
      "outputs": [
        {
          "output_type": "stream",
          "text": [
            "tensor(2.)\n",
            "tensor(12.)\n"
          ],
          "name": "stdout"
        }
      ]
    },
    {
      "cell_type": "code",
      "metadata": {
        "id": "UXfaUgZOiMas"
      },
      "source": [
        ""
      ],
      "execution_count": null,
      "outputs": []
    }
  ]
}