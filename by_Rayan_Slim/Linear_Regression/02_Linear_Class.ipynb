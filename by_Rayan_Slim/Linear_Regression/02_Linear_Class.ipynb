{
  "nbformat": 4,
  "nbformat_minor": 0,
  "metadata": {
    "colab": {
      "name": "Linear_Class",
      "provenance": [],
      "collapsed_sections": []
    },
    "kernelspec": {
      "name": "python3",
      "display_name": "Python 3"
    }
  },
  "cells": [
    {
      "cell_type": "code",
      "metadata": {
        "id": "c2TbWuYPrcYZ"
      },
      "source": [
        "import torch\n",
        "from torch.nn import Linear"
      ],
      "execution_count": null,
      "outputs": []
    },
    {
      "cell_type": "code",
      "metadata": {
        "colab": {
          "base_uri": "https://localhost:8080/"
        },
        "id": "3RoLvtbVs-ba",
        "outputId": "1429221b-c5f0-4573-af3e-1b25cbfe74e1"
      },
      "source": [
        "torch.manual_seed(1)\n",
        "model = Linear(in_features = 1, out_features = 1)\n",
        "print(model.bias, model.weight)"
      ],
      "execution_count": null,
      "outputs": [
        {
          "output_type": "stream",
          "text": [
            "Parameter containing:\n",
            "tensor([-0.4414], requires_grad=True) Parameter containing:\n",
            "tensor([[0.5153]], requires_grad=True)\n"
          ],
          "name": "stdout"
        }
      ]
    },
    {
      "cell_type": "code",
      "metadata": {
        "colab": {
          "base_uri": "https://localhost:8080/"
        },
        "id": "whT_KLHQt1CD",
        "outputId": "bd0cfad0-85e5-44c6-8dd3-373ad66033ea"
      },
      "source": [
        "x = torch.tensor([[2.0], [3.3]])\n",
        "model(x)"
      ],
      "execution_count": null,
      "outputs": [
        {
          "output_type": "execute_result",
          "data": {
            "text/plain": [
              "tensor([[0.5891],\n",
              "        [1.2590]], grad_fn=<AddmmBackward>)"
            ]
          },
          "metadata": {
            "tags": []
          },
          "execution_count": 6
        }
      ]
    },
    {
      "cell_type": "code",
      "metadata": {
        "id": "nNLHP36CuFD-"
      },
      "source": [
        ""
      ],
      "execution_count": null,
      "outputs": []
    }
  ]
}